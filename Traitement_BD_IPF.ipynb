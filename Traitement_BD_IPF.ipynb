{
  "nbformat": 4,
  "nbformat_minor": 0,
  "metadata": {
    "colab": {
      "name": "Traitement_BD_IPF.ipynb",
      "provenance": [],
      "toc_visible": true,
      "authorship_tag": "ABX9TyOgmOxc42snjq5YGsWng936",
      "include_colab_link": true
    },
    "kernelspec": {
      "name": "python3",
      "display_name": "Python 3"
    },
    "language_info": {
      "name": "python"
    }
  },
  "cells": [
    {
      "cell_type": "markdown",
      "metadata": {
        "id": "view-in-github",
        "colab_type": "text"
      },
      "source": [
        "<a href=\"https://colab.research.google.com/github/Claire-Alais/Prototype-Insight/blob/main/Traitement_BD_IPF.ipynb\" target=\"_parent\"><img src=\"https://colab.research.google.com/assets/colab-badge.svg\" alt=\"Open In Colab\"/></a>"
      ]
    },
    {
      "cell_type": "code",
      "metadata": {
        "id": "CziWv6Cczv7a"
      },
      "source": [
        "import pandas as pd\n",
        "import numpy as np\n",
        "import matplotlib.pyplot as plt\n",
        "from json import loads \n",
        "from google.colab import drive\n"
      ],
      "execution_count": null,
      "outputs": []
    },
    {
      "cell_type": "code",
      "metadata": {
        "colab": {
          "base_uri": "https://localhost:8080/"
        },
        "id": "1Aoi2xHR0FEs",
        "outputId": "7cb39bb6-6a2b-4ce6-f510-0523f598940f"
      },
      "source": [
        "from google.colab import drive\n",
        "drive.mount('/content/gdrive')"
      ],
      "execution_count": null,
      "outputs": [
        {
          "output_type": "stream",
          "text": [
            "Mounted at /content/gdrive\n"
          ],
          "name": "stdout"
        }
      ]
    },
    {
      "cell_type": "code",
      "metadata": {
        "id": "PrzwEGTJ0WYO"
      },
      "source": [
        "distances_paths_communes = pd.read_csv(r\"distances_paths_communes.csp\")"
      ],
      "execution_count": null,
      "outputs": []
    },
    {
      "cell_type": "code",
      "metadata": {
        "colab": {
          "base_uri": "https://localhost:8080/"
        },
        "id": "a3AHVsRf0HJ2",
        "outputId": "9df57b04-a696-4be1-a565-88d662450a03"
      },
      "source": [
        "dt = pd.read_csv(r\"gdrive/My Drive/Insight Signals/Donnees/dt_base_habitants_idf.csv\")"
      ],
      "execution_count": null,
      "outputs": [
        {
          "output_type": "stream",
          "text": [
            "/usr/local/lib/python3.7/dist-packages/IPython/core/interactiveshell.py:2718: DtypeWarning: Columns (3,5) have mixed types.Specify dtype option on import or set low_memory=False.\n",
            "  interactivity=interactivity, compiler=compiler, result=result)\n"
          ],
          "name": "stderr"
        }
      ]
    },
    {
      "cell_type": "code",
      "metadata": {
        "id": "cDy-8ewg0_6G"
      },
      "source": [
        "dt_travail = pd.read_csv(r\"gdrive/My Drive/Insight Signals/Donnees/dt_lieu_de_travail.csv\")"
      ],
      "execution_count": null,
      "outputs": []
    },
    {
      "cell_type": "code",
      "metadata": {
        "id": "DRGzwwzG2bmn"
      },
      "source": [
        "dt_nb_flux_dep = dt_travail[[\"CODGEO\", \"NBFLUX_C18_ACTOCC15P\"]].groupby(by=[\"CODGEO\"]).sum()"
      ],
      "execution_count": null,
      "outputs": []
    },
    {
      "cell_type": "code",
      "metadata": {
        "colab": {
          "base_uri": "https://localhost:8080/"
        },
        "id": "XSbN9yi02deY",
        "outputId": "a75ed734-ff56-492d-92ba-6288f92e80d7"
      },
      "source": [
        "float(dt_nb_flux_dep[dt_nb_flux_dep.index == 75101][\"NBFLUX_C18_ACTOCC15P\"])"
      ],
      "execution_count": null,
      "outputs": [
        {
          "output_type": "execute_result",
          "data": {
            "text/plain": [
              "8253.848717483848"
            ]
          },
          "metadata": {},
          "execution_count": 17
        }
      ]
    },
    {
      "cell_type": "code",
      "metadata": {
        "id": "nmBGB3_C4VGN"
      },
      "source": [
        "def divise(row):\n",
        "  return  row.NBFLUX_C18_ACTOCC15P / float(dt_nb_flux_dep[dt_nb_flux_dep.index == row.CODGEO][\"NBFLUX_C18_ACTOCC15P\"])"
      ],
      "execution_count": null,
      "outputs": []
    },
    {
      "cell_type": "code",
      "metadata": {
        "id": "Kz1dotoL65C1"
      },
      "source": [
        "dt_travail[\"nbflux_percent\"] = dt_travail.apply(divise, axis=1)"
      ],
      "execution_count": null,
      "outputs": []
    },
    {
      "cell_type": "code",
      "metadata": {
        "id": "vSy1BCRv7Gz_"
      },
      "source": [
        "list_dep = list(set(dt_travail.CODGEO))"
      ],
      "execution_count": null,
      "outputs": []
    },
    {
      "cell_type": "code",
      "metadata": {
        "id": "yhUYzacq9CUA"
      },
      "source": [
        "dict_list_dep = {dep: [] for dep in list_dep}\n",
        "for dep in list_dep:\n",
        "  for i in list(dt_travail[dt_travail.CODGEO == dep][\"DCLT\"]):\n",
        "    for j in range(int(dt_travail[(dt_travail.CODGEO == dep) & (dt_travail.DCLT == i)]['NBFLUX_C18_ACTOCC15P'])):\n",
        "        dict_list_dep[dep].append(i)"
      ],
      "execution_count": null,
      "outputs": []
    },
    {
      "cell_type": "code",
      "metadata": {
        "id": "fXLDbu7jHVW_"
      },
      "source": [
        "dt = dt.drop(dt[dt.codgeo == 75056].index)"
      ],
      "execution_count": null,
      "outputs": []
    },
    {
      "cell_type": "code",
      "metadata": {
        "id": "UIgEvFyIC5_B"
      },
      "source": [
        "import random\n",
        "\n",
        "def lieu_de_travail (row):\n",
        "  return(random.choice(dict_list_dep[row.codgeo]))\n",
        "\n",
        "dt[\"codgeo_travail\"] = dt.apply(lieu_de_travail, axis=1)"
      ],
      "execution_count": null,
      "outputs": []
    },
    {
      "cell_type": "code",
      "metadata": {
        "id": "c9cE60UnFJhM"
      },
      "source": [
        "dt.to_csv(\"dt_base_final.csv\")\n",
        "!cp dt_base_final.csv \"gdrive/My Drive/Insight Signals/Donnees\""
      ],
      "execution_count": null,
      "outputs": []
    },
    {
      "cell_type": "markdown",
      "metadata": {
        "id": "-pbQe1MqUDqJ"
      },
      "source": [
        "# check point"
      ]
    },
    {
      "cell_type": "code",
      "metadata": {
        "colab": {
          "base_uri": "https://localhost:8080/"
        },
        "id": "PdDgQmxuIS1g",
        "outputId": "8a025b5b-1a1c-46c1-fa6c-63eb086b5f3e"
      },
      "source": [
        "from google.colab import drive\n",
        "drive.mount('/content/gdrive')"
      ],
      "execution_count": 75,
      "outputs": [
        {
          "output_type": "stream",
          "text": [
            "Drive already mounted at /content/gdrive; to attempt to forcibly remount, call drive.mount(\"/content/gdrive\", force_remount=True).\n"
          ],
          "name": "stdout"
        }
      ]
    },
    {
      "cell_type": "code",
      "metadata": {
        "id": "9SvHmXLyKhIC"
      },
      "source": [
        "import pandas as pd\n",
        "import numpy as np\n",
        "import matplotlib.pyplot as plt\n",
        "from json import loads \n",
        "from google.colab import drive\n",
        "import random as rd"
      ],
      "execution_count": 76,
      "outputs": []
    },
    {
      "cell_type": "code",
      "metadata": {
        "id": "KhW4lsUpUQPA"
      },
      "source": [
        "dt = pd.read_csv(r\"gdrive/My Drive/Insight Signals/Donnees/dt_base_final.csv\")"
      ],
      "execution_count": 77,
      "outputs": []
    },
    {
      "cell_type": "code",
      "metadata": {
        "id": "GK2yOz_2UWMY"
      },
      "source": [
        "statistiques_mode = np.array([14683 / sum([14683, 9414, 834, 17126]),\n",
        "                              834 / sum([14683, 9414, 834, 17126]),\n",
        "                              17126 / sum([14683, 9414, 834, 17126]),\n",
        "                              9414 / sum([14683, 9414, 834, 17126])])\n",
        "#voiture, velo, marche, transport co"
      ],
      "execution_count": 83,
      "outputs": []
    },
    {
      "cell_type": "code",
      "metadata": {
        "id": "qOptS9YKUn4b"
      },
      "source": [
        "matrice_transport_duree = np.array([[0.58, 0.25, 0.13, 0.04],\n",
        "                                    [0.64, 0.27, 0.06, 0.02],\n",
        "                                    [0.84, 0.13, 0.03, 0.01],\n",
        "                                    [0.08, 0.29, 0.41, 0.22]\n",
        "          ])\n",
        "#egt"
      ],
      "execution_count": 85,
      "outputs": []
    },
    {
      "cell_type": "code",
      "metadata": {
        "id": "mSyjw3EuZYHT"
      },
      "source": [
        "matrice_duree_transport =  matrice_transport_duree * statistiques_mode"
      ],
      "execution_count": 91,
      "outputs": []
    },
    {
      "cell_type": "code",
      "metadata": {
        "colab": {
          "base_uri": "https://localhost:8080/"
        },
        "id": "26ZFPnHRZ1Y1",
        "outputId": "aebf030e-e70f-4bca-fd83-0648f52831c3"
      },
      "source": [
        "matrice_duree_transport.sum()"
      ],
      "execution_count": 93,
      "outputs": [
        {
          "output_type": "execute_result",
          "data": {
            "text/plain": [
              "1.0881123237511"
            ]
          },
          "metadata": {},
          "execution_count": 93
        }
      ]
    },
    {
      "cell_type": "code",
      "metadata": {
        "id": "nmVAX_3xZ7jy"
      },
      "source": [
        "# on selectionne tous les individus qui travaillent\n",
        "percentage_of_the_working_pop = 0.8\n",
        "\n",
        "# on prend en compte le télétravail\n",
        "percentage_of_homeworking = 0.2\n",
        "\n",
        "percentage_of_agent_working = percentage_of_the_working_pop * (1 - percentage_of_homeworking)"
      ],
      "execution_count": 1,
      "outputs": []
    },
    {
      "cell_type": "code",
      "metadata": {
        "id": "f5NJkr0lPet-"
      },
      "source": [
        "def time_category (time_travel):\n",
        "  if time_travel < 15:\n",
        "    return 0\n",
        "  if time_travel < 30:\n",
        "    return 1\n",
        "  if time_travel < 60:\n",
        "    return 2\n",
        "  return 3\n",
        "\n",
        "\n",
        "def choice_of_a_mode_of_transport (row, include_common_transport=False):  \n",
        "  category_car = time_category(row.time_travel_by_car)\n",
        "  category_bike = time_category(row.time_travel_by_bike)\n",
        "  category_walk = time_category(row.time_travel_by_walk)\n",
        "  if include_common_transport:\n",
        "    category_common_transport = time_category(row.time_travel_by_common_transport)\n",
        "\n",
        "  chance_of_traveling_by_car = matrice_transport_duree[0, category_car]\n",
        "  chance_of_traveling_by_bike = matrice_transport_duree[1, category_bike]\n",
        "  chance_of_traveling_by_walk = matrice_transport_duree[2, category_walk]\n",
        "  if include_common_transport:\n",
        "    chance_of_traveling_by_common_transport = matrice_transport_duree[3, category_common_transport]\n",
        "\n",
        "  tot_chance = chance_of_traveling_by_bike + chance_of_traveling_by_car + chance_of_traveling_by_walk\n",
        "  if include_common_transport:\n",
        "    tot_chance += chance_of_traveling_by_common_transport\n",
        "\n",
        "  chance_of_traveling_by_car = chance_of_traveling_by_car / tot_chance\n",
        "  chance_of_traveling_by_bike = chance_of_traveling_by_car + chance_of_traveling_by_bike / tot_chance\n",
        "  chance_of_traveling_by_walk = chance_of_traveling_by_bike + chance_of_traveling_by_walk / tot_chance\n",
        "  if include_common_transport:\n",
        "    chance_of_traveling_by_common_transport = chance_of_traveling_by_walk + chance_of_traveling_by_common_transport / tot_chance\n",
        "\n",
        "    return [chance_of_traveling_by_car, chance_of_traveling_by_bike, chance_of_traveling_by_walk, chance_of_traveling_by_common_transport]\n",
        "  return [chance_of_traveling_by_car, chance_of_traveling_by_bike, chance_of_traveling_by_walk]"
      ],
      "execution_count": 2,
      "outputs": []
    },
    {
      "cell_type": "code",
      "metadata": {
        "id": "IXrOyGLqcalF"
      },
      "source": [
        "def multi_run_simulation(DataFrame, n=1000):\n",
        "  for i in range(n):\n",
        "    DataFrame[\"run_\" + str(i + 1) + \"_results\"] = run_simulation(DataFrame[\"liste_of_chance\"].values, np.random.uniform(0,1,len(DataFrame)))\n",
        "\n",
        "    \n",
        "\n",
        "def run_simulation(liste_of_chance, value):\n",
        "  if value <= liste_of_chance[0]:\n",
        "    return \"car\"\n",
        "  if value <= liste_of_chance[1]:\n",
        "    return \"bike\"\n",
        "  if value <= liste_of_chance[2]:\n",
        "    return \"walk\"\n",
        "  if value <= liste_of_chance[3]:\n",
        "    return \"common transport\""
      ],
      "execution_count": 4,
      "outputs": []
    },
    {
      "cell_type": "code",
      "metadata": {
        "id": "gZNYRdqAkVtw"
      },
      "source": [
        ""
      ],
      "execution_count": 4,
      "outputs": []
    }
  ]
}